{
 "cells": [
  {
   "cell_type": "markdown",
   "metadata": {
    "collapsed": false
   },
   "source": [
    "#### 本项目基于PaddleSeg实现"
   ]
  },
  {
   "cell_type": "code",
   "execution_count": 0,
   "metadata": {
    "collapsed": false
   },
   "outputs": [],
   "source": [
    "### 对遥感地块分割的训练集、划分训练集、验证集\n",
    "import random\n",
    "from pathlib import Path\n",
    "\n",
    "root_path = Path(r'/Path/to/CCF_BCI_2020/data')\n",
    "\n",
    "images_path = root_path/'img_train'\n",
    "labels_path = root_path/'lab_train'\n",
    "\n",
    "train_txt = open(root_path/'train.txt', 'w')\n",
    "val_txt = open(root_path/'val.txt', 'w')\n",
    "\n",
    "for label_path in labels_path.rglob('*.png'):\n",
    "    if random.random() < 0.9:\n",
    "        train_txt.write(f'{images_path}/{label_path.stem}.jpg {labels_path}/{label_path.name} \\n')\n",
    "    else:\n",
    "        val_txt.write(f'{images_path}/{label_path.stem}.jpg {labels_path}/{label_path.name} \\n')\n",
    "\n",
    "train_txt.close()\n",
    "val_txt.close()"
   ]
  },
  {
   "cell_type": "code",
   "execution_count": null,
   "metadata": {
    "collapsed": false
   },
   "outputs": [],
   "source": [
    "# _base_/ccf_bci.yml\n",
    "\n",
    "# 存放对数据集以及优化器的操作\n",
    "\n",
    "train_dataset:\n",
    "  type: Dataset\n",
    "  dataset_root: /home/ubuntu/workspace/Projects/CCF_BCI_2020/data\n",
    "  train_path: /home/ubuntu/workspace/Projects/CCF_BCI_2020/data/train.txt\n",
    "  num_classes: 4\n",
    "  transforms:\n",
    "    - type: ResizeStepScaling\n",
    "      min_scale_factor: 0.5\n",
    "      max_scale_factor: 2.0\n",
    "      scale_step_size: 0.25\n",
    "    - type: RandomPaddingCrop\n",
    "      crop_size: [256, 256]\n",
    "    - type: RandomHorizontalFlip\n",
    "    - type: RandomDistort\n",
    "      brightness_range: 0.4\n",
    "      contrast_range: 0.4\n",
    "      saturation_range: 0.4\n",
    "    - type: Normalize\n",
    "  mode: train\n",
    "\n",
    "val_dataset:\n",
    "  type: Dataset\n",
    "  dataset_root: /home/ubuntu/workspace/Projects/CCF_BCI_2020/data\n",
    "  val_path: /home/ubuntu/workspace/Projects/CCF_BCI_2020/data/val.txt\n",
    "  num_classes: 4\n",
    "  transforms:\n",
    "    - type: Normalize\n",
    "  mode: val\n",
    "\n",
    "\n",
    "optimizer:\n",
    "  type: sgd\n",
    "  momentum: 0.9\n",
    "  weight_decay: 4.0e-5\n",
    "\n",
    "lr_scheduler:\n",
    "  type: PolynomialDecay\n",
    "  learning_rate: 0.001\n",
    "  end_lr: 0\n",
    "  power: 0.9"
   ]
  },
  {
   "cell_type": "code",
   "execution_count": null,
   "metadata": {
    "collapsed": false
   },
   "outputs": [],
   "source": [
    "# model.yml\n",
    "_base_: '../_base_/ccf_bci.yml'\n",
    "\n",
    "batch_size: 64\n",
    "iters: 80000\n",
    "\n",
    "\n",
    "optimizer:\n",
    "  type: sgd\n",
    "  momentum: 0.9\n",
    "  weight_decay: 4.0e-5\n",
    "\n",
    "lr_scheduler:\n",
    "  type: PolynomialDecay\n",
    "  learning_rate: 0.01\n",
    "  end_lr: 0\n",
    "  power: 0.9\n",
    "\n",
    "loss:\n",
    "  types:\n",
    "    - type: MixedLoss\n",
    "      losses:\n",
    "        - type: CrossEntropyLoss\n",
    "        - type: LovaszSoftmaxLoss\n",
    "        - type: DiceLoss\n",
    "      coef: [0.6, 0.1, 0.3]\n",
    "  coef: [1]\n",
    "\n",
    "model:\n",
    "  type: FCN\n",
    "  backbone:\n",
    "    type: HRNet_W48\n",
    "    align_corners: False\n",
    "    pretrained: https://bj.bcebos.com/paddleseg/dygraph/hrnet_w48_ssld.tar.gz\n",
    "  backbone_indices: [-1]\n",
    "  pretrained: Null"
   ]
  },
  {
   "cell_type": "code",
   "execution_count": null,
   "metadata": {
    "collapsed": false
   },
   "outputs": [],
   "source": [
    "# 项目运行\n",
    "cd PaddleSeg\n",
    "\n",
    "# 模型训练\n",
    "export CUDA_VISIBLE_DEVICES=1 # 设置1张可用的卡\n",
    "python train.py \\\n",
    "       --config configs/ccf_bci/model.yml \\\n",
    "       --do_eval \\\n",
    "       --use_vdl \\\n",
    "       --save_interval 500 \\\n",
    "       --save_dir output_loss_mixed_1 \\\n",
    "\n",
    "# 模型预测\n",
    "python predict.py \\\n",
    "       --config configs/ccf_bci/model.yml \\\n",
    "       --model_path output_loss_mixed_1/best_model/model.pdparams \\\n",
    "       --image_path ../data/img_testA \\\n",
    "       --save_dir ../model_result_mixed/"
   ]
  },
  {
   "cell_type": "markdown",
   "metadata": {
    "collapsed": false
   },
   "source": [
    "## 模型构建思路及调优过程:\n",
    "  本项目最先使用Unet作为Baseline进行测试，通过分析预测结果和各模型之间的特点最后选择HRNet作为最终框架，并根据数据标注的物体结构特点选择了CrossEntropyLoss+LovaszSoftmaxLoss+DiceLoss的混合Loss。"
   ]
  }
 ],
 "metadata": {
  "kernelspec": {
   "display_name": "PaddlePaddle 2.1.0 (Python 3.5)",
   "language": "python",
   "name": "py35-paddle1.2.0"
  },
  "language_info": {
   "codemirror_mode": {
    "name": "ipython",
    "version": 3
   },
   "file_extension": ".py",
   "mimetype": "text/x-python",
   "name": "python",
   "nbconvert_exporter": "python",
   "pygments_lexer": "ipython3",
   "version": "3.7.4"
  }
 },
 "nbformat": 4,
 "nbformat_minor": 1
}
